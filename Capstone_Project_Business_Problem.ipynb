{
 "cells": [
  {
   "cell_type": "markdown",
   "metadata": {},
   "source": [
    "# Capstone Project - The Battle of the Neighborhoods (Week4)"
   ]
  },
  {
   "cell_type": "markdown",
   "metadata": {},
   "source": [
    "## Introduction: Business Problem <a name=\"introduction\"></a>"
   ]
  },
  {
   "cell_type": "markdown",
   "metadata": {},
   "source": [
    "**Background:** \n",
    "Pune is one of the fastest growing cities of India. The city has seen a major growth in population as it is moving ahead in its path of being a hub for IT and Education services. It is also in the process of becoming a SMART city attracting even more people.\n",
    "The property costs in Pune are not as high as other major cities of India. But with good average income, this city is a good candidate for business. Specially Restaurant business as the city has people from all over India as well as people from outside India residing in the city working for the IT companies. It seems to be a good time to open a milti-cuisine or franchise (McD, KFC etc) restaurant in the growing city of Pune.\n",
    "\n",
    "**Problem:** \n",
    "Best location to open a new restaurant in Pune. The success of a restaurant is affected by its **location, area population and other attractions in the area.** Hence, it is very impertant to do a thorough analysis of the optimal location for opening the new restarant.\n",
    "\n",
    "**Audience:** \n",
    "A person looking to open a new restaurant in the city.\n",
    "\n",
    "**Solution Approach:**\n",
    "In this project we will try to find an **optimal location for a restaurant in the city of Pune India**. \n",
    "\n",
    "Using data analysis techniques we will find out the density of restaurants in various neighborhoods of the city. \n",
    "We will also find the top venues of the area. \n",
    "\n",
    "Then we will find areas with low density of restaurants and some new attractions comming in like a big IT firm opening their office or a new multiplex being constructed in the area etc."
   ]
  },
  {
   "cell_type": "code",
   "execution_count": null,
   "metadata": {},
   "outputs": [],
   "source": []
  }
 ],
 "metadata": {
  "kernelspec": {
   "display_name": "Python 3",
   "language": "python",
   "name": "python3"
  },
  "language_info": {
   "codemirror_mode": {
    "name": "ipython",
    "version": 3
   },
   "file_extension": ".py",
   "mimetype": "text/x-python",
   "name": "python",
   "nbconvert_exporter": "python",
   "pygments_lexer": "ipython3",
   "version": "3.7.4"
  }
 },
 "nbformat": 4,
 "nbformat_minor": 2
}
